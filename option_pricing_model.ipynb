{
  "nbformat": 4,
  "nbformat_minor": 0,
  "metadata": {
    "colab": {
      "provenance": []
    },
    "kernelspec": {
      "name": "python3",
      "display_name": "Python 3"
    },
    "language_info": {
      "name": "python"
    }
  },
  "cells": [
    {
      "cell_type": "code",
      "execution_count": 33,
      "metadata": {
        "id": "tXB93irNemdy"
      },
      "outputs": [],
      "source": [
        "import numpy as np\n",
        "from scipy.stats import norm\n",
        "import yfinance as yf"
      ]
    },
    {
      "cell_type": "code",
      "source": [
        "def get_real_time_data(symbol):\n",
        "    stock = yf.Ticker(symbol)\n",
        "    hist = stock.history(period='1y')\n",
        "    current_price = hist['Close'][-1]\n",
        "    returns = hist['Close'].pct_change().dropna()\n",
        "    volatility = returns.std() * np.sqrt(252)\n",
        "    risk_free_rate = 0.01\n",
        "\n",
        "    return current_price, volatility, risk_free_rate"
      ],
      "metadata": {
        "id": "IdnMGUsOi8f0"
      },
      "execution_count": 34,
      "outputs": []
    },
    {
      "cell_type": "code",
      "source": [
        "def black_scholes_option_price(S, K, T, r, sigma, option_type='call'):\n",
        "    d1 = (np.log(S / K) + (r + 0.5 * sigma ** 2) * T) / (sigma * np.sqrt(T))\n",
        "    d2 = d1 - sigma * np.sqrt(T)\n",
        "    if option_type == 'call':\n",
        "        option_price = S * norm.cdf(d1) - K * np.exp(-r * T) * norm.cdf(d2)\n",
        "    elif option_type == 'put':\n",
        "        option_price = K * np.exp(-r * T) * norm.cdf(-d2) - S * norm.cdf(-d1)\n",
        "    else:\n",
        "        raise ValueError(\"Invalid option type. Please choose 'call' or 'put'.\")\n",
        "\n",
        "    return option_price"
      ],
      "metadata": {
        "id": "M1elT0RRe0_g"
      },
      "execution_count": 35,
      "outputs": []
    },
    {
      "cell_type": "code",
      "source": [
        "symbol = input('What is the ticker symbol of the stock? ')\n",
        "K_in = input('What is the strike price? ')\n",
        "T_in = input('How many days till this option expires? ')\n",
        "option_type = input('call or put? ')\n",
        "K = int(K_in)\n",
        "T = int(T_in)/365\n",
        "\n",
        "S, sigma, r = get_real_time_data(symbol.upper())\n",
        "\n",
        "option_price = black_scholes_option_price(S, K, T, r, sigma, option_type)\n",
        "\n",
        "print(\"Theoretical Option Price:\", option_price)\n"
      ],
      "metadata": {
        "colab": {
          "base_uri": "https://localhost:8080/"
        },
        "id": "H1AQgyqIhTYA",
        "outputId": "e2a06ee3-3c5f-4b7d-d31a-6bf4f547de76"
      },
      "execution_count": 37,
      "outputs": [
        {
          "output_type": "stream",
          "name": "stdout",
          "text": [
            "What is the ticker symbol of the stock? aapl\n",
            "What is the strike price? 23\n",
            "How many days till this option expires? 2\n",
            "call or put? call\n",
            "Theoretical Option Price: 147.03125901874205\n"
          ]
        }
      ]
    }
  ]
}